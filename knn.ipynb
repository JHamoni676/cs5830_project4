{
 "cells": [
  {
   "cell_type": "code",
   "execution_count": 8,
   "metadata": {
    "executionInfo": {
     "elapsed": 538,
     "status": "ok",
     "timestamp": 1645040435062,
     "user": {
      "displayName": "John Edwards",
      "photoUrl": "https://lh3.googleusercontent.com/a-/AOh14GjNdoYCBUMD6WY4cP9VEjQJl3NdSIBREBAeQ1vz=s64",
      "userId": "04096460213798108420"
     },
     "user_tz": 420
    },
    "id": "ohFyoP5Z-8QS"
   },
   "outputs": [],
   "source": [
    "\n",
    "import pandas as pd\n",
    "import numpy as np\n",
    "import random\n",
    "import seaborn as sns\n",
    "\n",
    "import matplotlib.pyplot as plt\n"
   ]
  },
  {
   "cell_type": "markdown",
   "metadata": {
    "id": "DyUhAK91-8QT"
   },
   "source": [
    "# k-nearest neighbors\n",
    "\n",
    "This dataset was obtained from https://archive.ics.uci.edu/ml/datasets/Heart+Disease (this is a great resource for datasets to try machine learning on). It has data on patients that are and are not diagnosed with heart disease.\n",
    "\n",
    "The attributes are:\n",
    "* age: age in years \n",
    "* sex: sex (1 = male; 0 = female) \n",
    "* cp: chest pain type \n",
    " * -- Value 1: typical angina \n",
    " * -- Value 2: atypical angina \n",
    " * -- Value 3: non-anginal pain \n",
    " * -- Value 4: asymptomatic \n",
    "* trestbps: resting blood pressure (in mm Hg on admission to the hospital) \n",
    "* chol: serum cholestoral in mg/dl \n",
    "* fbs: (fasting blood sugar > 120 mg/dl) (1 = true; 0 = false) \n",
    "* restecg: resting electrocardiographic results \n",
    " * -- Value 0: normal \n",
    " * -- Value 1: having ST-T wave abnormality (T wave inversions and/or ST elevation or depression of > 0.05 mV) \n",
    " * -- Value 2: showing probable or definite left ventricular hypertrophy by Estes' criteria \n",
    "* thalach: maximum heart rate achieved \n",
    "* exang: exercise induced angina (1 = yes; 0 = no) \n",
    "* oldpeak = ST depression induced by exercise relative to rest \n",
    "* slope: the slope of the peak exercise ST segment \n",
    " * -- Value 1: upsloping \n",
    " * -- Value 2: flat \n",
    " * -- Value 3: downsloping \n",
    "* ca: number of major vessels (0-3) colored by flourosopy \n",
    "* thal: 3 = normal; 6 = fixed defect; 7 = reversable defect \n",
    "* num: diagnosis of heart disease (angiographic disease status) \n",
    " * -- Value 0: absence.\n",
    " * -- Value 1,2,3,4: presence of heart disease\n"
   ]
  },
  {
   "cell_type": "markdown",
   "metadata": {
    "id": "BxJjRNB5-8QW"
   },
   "source": [
    "# Explore the data\n",
    "\n",
    "Read in the data, modify the dependent variable name and plot a histogram of the ages of patients, both healthy and those with heart disease."
   ]
  },
  {
   "cell_type": "code",
   "execution_count": 9,
   "metadata": {
    "colab": {
     "base_uri": "https://localhost:8080/",
     "height": 484
    },
    "executionInfo": {
     "elapsed": 947,
     "status": "ok",
     "timestamp": 1645040463101,
     "user": {
      "displayName": "John Edwards",
      "photoUrl": "https://lh3.googleusercontent.com/a-/AOh14GjNdoYCBUMD6WY4cP9VEjQJl3NdSIBREBAeQ1vz=s64",
      "userId": "04096460213798108420"
     },
     "user_tz": 420
    },
    "id": "JPSDi8S6-8QY",
    "outputId": "c1bb1a86-0132-4e16-c0b3-ebe3fa6fd2c0"
   },
   "outputs": [],
   "source": [
    "# Comma-separated values\n",
    "df = pd.read_csv('core/cleveland.csv')\n",
    "\n"
   ]
  },
  {
   "cell_type": "code",
   "execution_count": 10,
   "metadata": {},
   "outputs": [
    {
     "data": {
      "text/html": [
       "<div>\n",
       "<style scoped>\n",
       "    .dataframe tbody tr th:only-of-type {\n",
       "        vertical-align: middle;\n",
       "    }\n",
       "\n",
       "    .dataframe tbody tr th {\n",
       "        vertical-align: top;\n",
       "    }\n",
       "\n",
       "    .dataframe thead th {\n",
       "        text-align: right;\n",
       "    }\n",
       "</style>\n",
       "<table border=\"1\" class=\"dataframe\">\n",
       "  <thead>\n",
       "    <tr style=\"text-align: right;\">\n",
       "      <th></th>\n",
       "      <th>age</th>\n",
       "      <th>sex</th>\n",
       "      <th>cp</th>\n",
       "      <th>trestbps</th>\n",
       "      <th>chol</th>\n",
       "      <th>fbs</th>\n",
       "      <th>restecg</th>\n",
       "      <th>thalach</th>\n",
       "      <th>exang</th>\n",
       "      <th>oldpeak</th>\n",
       "      <th>slope</th>\n",
       "      <th>ca</th>\n",
       "      <th>thal</th>\n",
       "      <th>num</th>\n",
       "      <th>disease</th>\n",
       "    </tr>\n",
       "  </thead>\n",
       "  <tbody>\n",
       "    <tr>\n",
       "      <th>0</th>\n",
       "      <td>63.0</td>\n",
       "      <td>1.0</td>\n",
       "      <td>1.0</td>\n",
       "      <td>145.0</td>\n",
       "      <td>233.0</td>\n",
       "      <td>1.0</td>\n",
       "      <td>2.0</td>\n",
       "      <td>150.0</td>\n",
       "      <td>0.0</td>\n",
       "      <td>2.3</td>\n",
       "      <td>3.0</td>\n",
       "      <td>0.0</td>\n",
       "      <td>6.0</td>\n",
       "      <td>0</td>\n",
       "      <td>0</td>\n",
       "    </tr>\n",
       "    <tr>\n",
       "      <th>1</th>\n",
       "      <td>67.0</td>\n",
       "      <td>1.0</td>\n",
       "      <td>4.0</td>\n",
       "      <td>160.0</td>\n",
       "      <td>286.0</td>\n",
       "      <td>0.0</td>\n",
       "      <td>2.0</td>\n",
       "      <td>108.0</td>\n",
       "      <td>1.0</td>\n",
       "      <td>1.5</td>\n",
       "      <td>2.0</td>\n",
       "      <td>3.0</td>\n",
       "      <td>3.0</td>\n",
       "      <td>2</td>\n",
       "      <td>1</td>\n",
       "    </tr>\n",
       "    <tr>\n",
       "      <th>2</th>\n",
       "      <td>67.0</td>\n",
       "      <td>1.0</td>\n",
       "      <td>4.0</td>\n",
       "      <td>120.0</td>\n",
       "      <td>229.0</td>\n",
       "      <td>0.0</td>\n",
       "      <td>2.0</td>\n",
       "      <td>129.0</td>\n",
       "      <td>1.0</td>\n",
       "      <td>2.6</td>\n",
       "      <td>2.0</td>\n",
       "      <td>2.0</td>\n",
       "      <td>7.0</td>\n",
       "      <td>1</td>\n",
       "      <td>1</td>\n",
       "    </tr>\n",
       "    <tr>\n",
       "      <th>3</th>\n",
       "      <td>37.0</td>\n",
       "      <td>1.0</td>\n",
       "      <td>3.0</td>\n",
       "      <td>130.0</td>\n",
       "      <td>250.0</td>\n",
       "      <td>0.0</td>\n",
       "      <td>0.0</td>\n",
       "      <td>187.0</td>\n",
       "      <td>0.0</td>\n",
       "      <td>3.5</td>\n",
       "      <td>3.0</td>\n",
       "      <td>0.0</td>\n",
       "      <td>3.0</td>\n",
       "      <td>0</td>\n",
       "      <td>0</td>\n",
       "    </tr>\n",
       "    <tr>\n",
       "      <th>4</th>\n",
       "      <td>41.0</td>\n",
       "      <td>0.0</td>\n",
       "      <td>2.0</td>\n",
       "      <td>130.0</td>\n",
       "      <td>204.0</td>\n",
       "      <td>0.0</td>\n",
       "      <td>2.0</td>\n",
       "      <td>172.0</td>\n",
       "      <td>0.0</td>\n",
       "      <td>1.4</td>\n",
       "      <td>1.0</td>\n",
       "      <td>0.0</td>\n",
       "      <td>3.0</td>\n",
       "      <td>0</td>\n",
       "      <td>0</td>\n",
       "    </tr>\n",
       "    <tr>\n",
       "      <th>...</th>\n",
       "      <td>...</td>\n",
       "      <td>...</td>\n",
       "      <td>...</td>\n",
       "      <td>...</td>\n",
       "      <td>...</td>\n",
       "      <td>...</td>\n",
       "      <td>...</td>\n",
       "      <td>...</td>\n",
       "      <td>...</td>\n",
       "      <td>...</td>\n",
       "      <td>...</td>\n",
       "      <td>...</td>\n",
       "      <td>...</td>\n",
       "      <td>...</td>\n",
       "      <td>...</td>\n",
       "    </tr>\n",
       "    <tr>\n",
       "      <th>298</th>\n",
       "      <td>45.0</td>\n",
       "      <td>1.0</td>\n",
       "      <td>1.0</td>\n",
       "      <td>110.0</td>\n",
       "      <td>264.0</td>\n",
       "      <td>0.0</td>\n",
       "      <td>0.0</td>\n",
       "      <td>132.0</td>\n",
       "      <td>0.0</td>\n",
       "      <td>1.2</td>\n",
       "      <td>2.0</td>\n",
       "      <td>0.0</td>\n",
       "      <td>7.0</td>\n",
       "      <td>1</td>\n",
       "      <td>1</td>\n",
       "    </tr>\n",
       "    <tr>\n",
       "      <th>299</th>\n",
       "      <td>68.0</td>\n",
       "      <td>1.0</td>\n",
       "      <td>4.0</td>\n",
       "      <td>144.0</td>\n",
       "      <td>193.0</td>\n",
       "      <td>1.0</td>\n",
       "      <td>0.0</td>\n",
       "      <td>141.0</td>\n",
       "      <td>0.0</td>\n",
       "      <td>3.4</td>\n",
       "      <td>2.0</td>\n",
       "      <td>2.0</td>\n",
       "      <td>7.0</td>\n",
       "      <td>2</td>\n",
       "      <td>1</td>\n",
       "    </tr>\n",
       "    <tr>\n",
       "      <th>300</th>\n",
       "      <td>57.0</td>\n",
       "      <td>1.0</td>\n",
       "      <td>4.0</td>\n",
       "      <td>130.0</td>\n",
       "      <td>131.0</td>\n",
       "      <td>0.0</td>\n",
       "      <td>0.0</td>\n",
       "      <td>115.0</td>\n",
       "      <td>1.0</td>\n",
       "      <td>1.2</td>\n",
       "      <td>2.0</td>\n",
       "      <td>1.0</td>\n",
       "      <td>7.0</td>\n",
       "      <td>3</td>\n",
       "      <td>1</td>\n",
       "    </tr>\n",
       "    <tr>\n",
       "      <th>301</th>\n",
       "      <td>57.0</td>\n",
       "      <td>0.0</td>\n",
       "      <td>2.0</td>\n",
       "      <td>130.0</td>\n",
       "      <td>236.0</td>\n",
       "      <td>0.0</td>\n",
       "      <td>2.0</td>\n",
       "      <td>174.0</td>\n",
       "      <td>0.0</td>\n",
       "      <td>0.0</td>\n",
       "      <td>2.0</td>\n",
       "      <td>1.0</td>\n",
       "      <td>3.0</td>\n",
       "      <td>1</td>\n",
       "      <td>1</td>\n",
       "    </tr>\n",
       "    <tr>\n",
       "      <th>302</th>\n",
       "      <td>38.0</td>\n",
       "      <td>1.0</td>\n",
       "      <td>3.0</td>\n",
       "      <td>138.0</td>\n",
       "      <td>175.0</td>\n",
       "      <td>0.0</td>\n",
       "      <td>0.0</td>\n",
       "      <td>173.0</td>\n",
       "      <td>0.0</td>\n",
       "      <td>0.0</td>\n",
       "      <td>1.0</td>\n",
       "      <td>?</td>\n",
       "      <td>3.0</td>\n",
       "      <td>0</td>\n",
       "      <td>0</td>\n",
       "    </tr>\n",
       "  </tbody>\n",
       "</table>\n",
       "<p>303 rows × 15 columns</p>\n",
       "</div>"
      ],
      "text/plain": [
       "      age  sex   cp  trestbps   chol  fbs  restecg  thalach  exang  oldpeak  \\\n",
       "0    63.0  1.0  1.0     145.0  233.0  1.0      2.0    150.0    0.0      2.3   \n",
       "1    67.0  1.0  4.0     160.0  286.0  0.0      2.0    108.0    1.0      1.5   \n",
       "2    67.0  1.0  4.0     120.0  229.0  0.0      2.0    129.0    1.0      2.6   \n",
       "3    37.0  1.0  3.0     130.0  250.0  0.0      0.0    187.0    0.0      3.5   \n",
       "4    41.0  0.0  2.0     130.0  204.0  0.0      2.0    172.0    0.0      1.4   \n",
       "..    ...  ...  ...       ...    ...  ...      ...      ...    ...      ...   \n",
       "298  45.0  1.0  1.0     110.0  264.0  0.0      0.0    132.0    0.0      1.2   \n",
       "299  68.0  1.0  4.0     144.0  193.0  1.0      0.0    141.0    0.0      3.4   \n",
       "300  57.0  1.0  4.0     130.0  131.0  0.0      0.0    115.0    1.0      1.2   \n",
       "301  57.0  0.0  2.0     130.0  236.0  0.0      2.0    174.0    0.0      0.0   \n",
       "302  38.0  1.0  3.0     138.0  175.0  0.0      0.0    173.0    0.0      0.0   \n",
       "\n",
       "     slope   ca thal  num  disease  \n",
       "0      3.0  0.0  6.0    0        0  \n",
       "1      2.0  3.0  3.0    2        1  \n",
       "2      2.0  2.0  7.0    1        1  \n",
       "3      3.0  0.0  3.0    0        0  \n",
       "4      1.0  0.0  3.0    0        0  \n",
       "..     ...  ...  ...  ...      ...  \n",
       "298    2.0  0.0  7.0    1        1  \n",
       "299    2.0  2.0  7.0    2        1  \n",
       "300    2.0  1.0  7.0    3        1  \n",
       "301    2.0  1.0  3.0    1        1  \n",
       "302    1.0    ?  3.0    0        0  \n",
       "\n",
       "[303 rows x 15 columns]"
      ]
     },
     "execution_count": 10,
     "metadata": {},
     "output_type": "execute_result"
    }
   ],
   "source": [
    "df\n",
    "\n",
    "# Rename 'num' column to 'disease' and make it binary\n",
    "df['disease'] = df.num.apply(lambda x: min(x,1))\n",
    "df "
   ]
  },
  {
   "cell_type": "code",
   "execution_count": 11,
   "metadata": {},
   "outputs": [
    {
     "data": {
      "text/plain": [
       "Text(0.5, 1.0, 'unhealthy')"
      ]
     },
     "execution_count": 11,
     "metadata": {},
     "output_type": "execute_result"
    },
    {
     "data": {
      "image/png": "[encoded data removed]",
      "text/plain": [
       "<Figure size 640x480 with 2 Axes>"
      ]
     },
     "metadata": {},
     "output_type": "display_data"
    }
   ],
   "source": [
    "# sns.displot(data=df, x='age', hue='disease')\n",
    "\n",
    "fig, (ax1, ax2) = plt.subplots(2,1)\n",
    "fig.subplots_adjust(hspace=0.5)\n",
    "\n",
    "ax1.hist(df[df.disease == 0].age)\n",
    "ax1.set_ylabel('number of patients')\n",
    "ax1.set_xlim(20, 80)\n",
    "ax1.set_ylim(0, 50)\n",
    "ax1.set_title('healthy')\n",
    "\n",
    "ax2.hist(df[df.disease == 1].age, color='red')\n",
    "ax2.set_ylabel('number of patients')\n",
    "ax2.set_xlim(20, 80)\n",
    "ax2.set_ylim(0, 50)\n",
    "ax2.set_title('unhealthy')"
   ]
  },
  {
   "cell_type": "markdown",
   "metadata": {
    "id": "9XiKkhLX-8Qa"
   },
   "source": [
    "# k-nearest neighbors - first try\n",
    "\n",
    "Try it first on age, using the scikit-learn package. This code simply looks for the five patients with ages closest to a given age, then prints how many of those patients are healthy and how many have heart disease."
   ]
  },
  {
   "cell_type": "code",
   "execution_count": 12,
   "metadata": {
    "colab": {
     "base_uri": "https://localhost:8080/",
     "height": 259
    },
    "executionInfo": {
     "elapsed": 306,
     "status": "ok",
     "timestamp": 1645022608721,
     "user": {
      "displayName": "John Edwards",
      "photoUrl": "https://lh3.googleusercontent.com/a-/AOh14GjNdoYCBUMD6WY4cP9VEjQJl3NdSIBREBAeQ1vz=s64",
      "userId": "04096460213798108420"
     },
     "user_tz": 420
    },
    "id": "LH6JgWzC-8Qb",
    "outputId": "5e989bf3-ced6-473c-ea9d-e54dfb89bfab"
   },
   "outputs": [
    {
     "name": "stdout",
     "output_type": "stream",
     "text": [
      "healthy: 1\n",
      "sick: 4\n"
     ]
    }
   ],
   "source": [
    "from sklearn.neighbors import NearestNeighbors\n",
    "\n",
    "# Use knn on age. First create a nearest neighbors object.\n",
    "nn = NearestNeighbors(n_neighbors=5, metric='euclidean', algorithm='auto')\n",
    "\n",
    "X = [[x] for x in df.age]\n",
    "# df.age\n",
    "X\n",
    "\n",
    "fit = nn.fit(X)\n",
    "\n",
    "distances, indices = fit.kneighbors([[70]])\n",
    "distances, indices\n",
    "\n",
    "nbrs = df.iloc[indices[0]]\n",
    "nbrs\n",
    "\n",
    "healthy = nbrs[nbrs.disease == 0].count().disease\n",
    "sick = nbrs[nbrs.disease == 1].count().disease\n",
    "\n",
    "print('healthy: {}\\nsick: {}'.format(healthy, sick))\n"
   ]
  },
  {
   "cell_type": "markdown",
   "metadata": {
    "id": "32t1fq3V-8Qc"
   },
   "source": [
    "# multiple dimensions\n",
    "\n",
    "Now run knn on a patient from the database using an additional dimension, or attribute: trestbps (resting blood pressure).\n",
    "\n",
    "**Warning** The raw data used is not standardized, so differences in the magnitude of change between the different attributes could cause one attribute to unduly influence another. Use standardized data for knn."
   ]
  },
  {
   "cell_type": "code",
   "execution_count": 13,
   "metadata": {
    "colab": {
     "base_uri": "https://localhost:8080/"
    },
    "executionInfo": {
     "elapsed": 363,
     "status": "ok",
     "timestamp": 1645022670938,
     "user": {
      "displayName": "John Edwards",
      "photoUrl": "https://lh3.googleusercontent.com/a-/AOh14GjNdoYCBUMD6WY4cP9VEjQJl3NdSIBREBAeQ1vz=s64",
      "userId": "04096460213798108420"
     },
     "user_tz": 420
    },
    "id": "ZCnXYiWW-8Qd",
    "outputId": "d0bc35a9-aa75-417f-80d6-692c08a91312"
   },
   "outputs": [
    {
     "name": "stdout",
     "output_type": "stream",
     "text": [
      "healthy: 1\n",
      "sick: 4\n"
     ]
    },
    {
     "data": {
      "text/html": [
       "<div>\n",
       "<style scoped>\n",
       "    .dataframe tbody tr th:only-of-type {\n",
       "        vertical-align: middle;\n",
       "    }\n",
       "\n",
       "    .dataframe tbody tr th {\n",
       "        vertical-align: top;\n",
       "    }\n",
       "\n",
       "    .dataframe thead th {\n",
       "        text-align: right;\n",
       "    }\n",
       "</style>\n",
       "<table border=\"1\" class=\"dataframe\">\n",
       "  <thead>\n",
       "    <tr style=\"text-align: right;\">\n",
       "      <th></th>\n",
       "      <th>age</th>\n",
       "      <th>sex</th>\n",
       "      <th>cp</th>\n",
       "      <th>trestbps</th>\n",
       "      <th>chol</th>\n",
       "      <th>fbs</th>\n",
       "      <th>restecg</th>\n",
       "      <th>thalach</th>\n",
       "      <th>exang</th>\n",
       "      <th>oldpeak</th>\n",
       "      <th>slope</th>\n",
       "      <th>ca</th>\n",
       "      <th>thal</th>\n",
       "      <th>num</th>\n",
       "      <th>disease</th>\n",
       "      <th>age_s</th>\n",
       "      <th>trestbps_s</th>\n",
       "    </tr>\n",
       "  </thead>\n",
       "  <tbody>\n",
       "    <tr>\n",
       "      <th>126</th>\n",
       "      <td>56.0</td>\n",
       "      <td>0.0</td>\n",
       "      <td>4.0</td>\n",
       "      <td>200.0</td>\n",
       "      <td>288.0</td>\n",
       "      <td>1.0</td>\n",
       "      <td>2.0</td>\n",
       "      <td>133.0</td>\n",
       "      <td>1.0</td>\n",
       "      <td>4.0</td>\n",
       "      <td>3.0</td>\n",
       "      <td>2.0</td>\n",
       "      <td>7.0</td>\n",
       "      <td>3</td>\n",
       "      <td>1</td>\n",
       "      <td>0.172709</td>\n",
       "      <td>3.881319</td>\n",
       "    </tr>\n",
       "    <tr>\n",
       "      <th>83</th>\n",
       "      <td>68.0</td>\n",
       "      <td>1.0</td>\n",
       "      <td>3.0</td>\n",
       "      <td>180.0</td>\n",
       "      <td>274.0</td>\n",
       "      <td>1.0</td>\n",
       "      <td>2.0</td>\n",
       "      <td>150.0</td>\n",
       "      <td>1.0</td>\n",
       "      <td>1.6</td>\n",
       "      <td>2.0</td>\n",
       "      <td>0.0</td>\n",
       "      <td>7.0</td>\n",
       "      <td>3</td>\n",
       "      <td>1</td>\n",
       "      <td>1.500339</td>\n",
       "      <td>2.744939</td>\n",
       "    </tr>\n",
       "    <tr>\n",
       "      <th>188</th>\n",
       "      <td>54.0</td>\n",
       "      <td>1.0</td>\n",
       "      <td>2.0</td>\n",
       "      <td>192.0</td>\n",
       "      <td>283.0</td>\n",
       "      <td>0.0</td>\n",
       "      <td>2.0</td>\n",
       "      <td>195.0</td>\n",
       "      <td>0.0</td>\n",
       "      <td>0.0</td>\n",
       "      <td>1.0</td>\n",
       "      <td>1.0</td>\n",
       "      <td>7.0</td>\n",
       "      <td>1</td>\n",
       "      <td>1</td>\n",
       "      <td>-0.048563</td>\n",
       "      <td>3.426767</td>\n",
       "    </tr>\n",
       "    <tr>\n",
       "      <th>201</th>\n",
       "      <td>64.0</td>\n",
       "      <td>0.0</td>\n",
       "      <td>4.0</td>\n",
       "      <td>180.0</td>\n",
       "      <td>325.0</td>\n",
       "      <td>0.0</td>\n",
       "      <td>0.0</td>\n",
       "      <td>154.0</td>\n",
       "      <td>1.0</td>\n",
       "      <td>0.0</td>\n",
       "      <td>1.0</td>\n",
       "      <td>0.0</td>\n",
       "      <td>3.0</td>\n",
       "      <td>0</td>\n",
       "      <td>0</td>\n",
       "      <td>1.057795</td>\n",
       "      <td>2.744939</td>\n",
       "    </tr>\n",
       "    <tr>\n",
       "      <th>213</th>\n",
       "      <td>66.0</td>\n",
       "      <td>0.0</td>\n",
       "      <td>4.0</td>\n",
       "      <td>178.0</td>\n",
       "      <td>228.0</td>\n",
       "      <td>1.0</td>\n",
       "      <td>0.0</td>\n",
       "      <td>165.0</td>\n",
       "      <td>1.0</td>\n",
       "      <td>1.0</td>\n",
       "      <td>2.0</td>\n",
       "      <td>2.0</td>\n",
       "      <td>7.0</td>\n",
       "      <td>3</td>\n",
       "      <td>1</td>\n",
       "      <td>1.279067</td>\n",
       "      <td>2.631301</td>\n",
       "    </tr>\n",
       "  </tbody>\n",
       "</table>\n",
       "</div>"
      ],
      "text/plain": [
       "      age  sex   cp  trestbps   chol  fbs  restecg  thalach  exang  oldpeak  \\\n",
       "126  56.0  0.0  4.0     200.0  288.0  1.0      2.0    133.0    1.0      4.0   \n",
       "83   68.0  1.0  3.0     180.0  274.0  1.0      2.0    150.0    1.0      1.6   \n",
       "188  54.0  1.0  2.0     192.0  283.0  0.0      2.0    195.0    0.0      0.0   \n",
       "201  64.0  0.0  4.0     180.0  325.0  0.0      0.0    154.0    1.0      0.0   \n",
       "213  66.0  0.0  4.0     178.0  228.0  1.0      0.0    165.0    1.0      1.0   \n",
       "\n",
       "     slope   ca thal  num  disease     age_s  trestbps_s  \n",
       "126    3.0  2.0  7.0    3        1  0.172709    3.881319  \n",
       "83     2.0  0.0  7.0    3        1  1.500339    2.744939  \n",
       "188    1.0  1.0  7.0    1        1 -0.048563    3.426767  \n",
       "201    1.0  0.0  3.0    0        0  1.057795    2.744939  \n",
       "213    2.0  2.0  7.0    3        1  1.279067    2.631301  "
      ]
     },
     "metadata": {},
     "output_type": "display_data"
    }
   ],
   "source": [
    "# Use knn on age. First create a nearest neighbors object.\n",
    "nn = NearestNeighbors(n_neighbors=5, metric='euclidean', algorithm='auto')\n",
    "\n",
    "# standardize age and bp\n",
    "df['age_s'] = (df.age - df.age.mean())/df.age.std()\n",
    "df['trestbps_s'] = (df.trestbps - df.trestbps.mean())/df.trestbps.std()\n",
    "# display(df.age_s)\n",
    "\n",
    "X = df[['age_s', 'trestbps_s']].values\n",
    "# df.age\n",
    "X\n",
    "\n",
    "fit = nn.fit(X)\n",
    "\n",
    "distances, indices = fit.kneighbors([[70, 140]])\n",
    "distances, indices\n",
    "\n",
    "nbrs = df.iloc[indices[0]]\n",
    "nbrs\n",
    "\n",
    "healthy = nbrs[nbrs.disease == 0].count().disease\n",
    "sick = nbrs[nbrs.disease == 1].count().disease\n",
    "\n",
    "print('healthy: {}\\nsick: {}'.format(healthy, sick))\n",
    "display(nbrs)"
   ]
  },
  {
   "cell_type": "code",
   "execution_count": null,
   "metadata": {
    "executionInfo": {
     "elapsed": 157,
     "status": "ok",
     "timestamp": 1645040490498,
     "user": {
      "displayName": "John Edwards",
      "photoUrl": "https://lh3.googleusercontent.com/a-/AOh14GjNdoYCBUMD6WY4cP9VEjQJl3NdSIBREBAeQ1vz=s64",
      "userId": "04096460213798108420"
     },
     "user_tz": 420
    },
    "id": "2ZZ-zYGg_jxe"
   },
   "outputs": [],
   "source": []
  },
  {
   "cell_type": "code",
   "execution_count": null,
   "metadata": {
    "colab": {
     "base_uri": "https://localhost:8080/",
     "height": 323
    },
    "executionInfo": {
     "elapsed": 364,
     "status": "ok",
     "timestamp": 1645023811059,
     "user": {
      "displayName": "John Edwards",
      "photoUrl": "https://lh3.googleusercontent.com/a-/AOh14GjNdoYCBUMD6WY4cP9VEjQJl3NdSIBREBAeQ1vz=s64",
      "userId": "04096460213798108420"
     },
     "user_tz": 420
    },
    "id": "qBQgLgmu-8Qd",
    "outputId": "241c31a1-f21e-4fbf-8f60-820bc27130da"
   },
   "outputs": [],
   "source": []
  },
  {
   "cell_type": "markdown",
   "metadata": {
    "id": "xi4vw4U2-8Qe"
   },
   "source": [
    "# multiple tests"
   ]
  },
  {
   "cell_type": "code",
   "execution_count": 14,
   "metadata": {
    "colab": {
     "base_uri": "https://localhost:8080/",
     "height": 1000
    },
    "executionInfo": {
     "elapsed": 777,
     "status": "ok",
     "timestamp": 1645025693013,
     "user": {
      "displayName": "John Edwards",
      "photoUrl": "https://lh3.googleusercontent.com/a-/AOh14GjNdoYCBUMD6WY4cP9VEjQJl3NdSIBREBAeQ1vz=s64",
      "userId": "04096460213798108420"
     },
     "user_tz": 420
    },
    "id": "HlY6dakc-8Qe",
    "outputId": "4b9c1a33-cde0-412d-b8c3-5d5951f11ae7"
   },
   "outputs": [
    {
     "name": "stdout",
     "output_type": "stream",
     "text": [
      "precision=[0.56521739], recall=[0.59090909], f-score=[0.57777778], support=[22]\n"
     ]
    }
   ],
   "source": [
    "from sklearn.metrics import precision_recall_fscore_support\n",
    "\n",
    "# Use knn on age. First create a nearest neighbors object.\n",
    "nn = NearestNeighbors(n_neighbors=6, metric='euclidean', algorithm='auto')\n",
    "\n",
    "age = 'age_s'\n",
    "trestbps = 'trestbps_s'\n",
    "\n",
    "# This builds an index data structure under the hood for query performance\n",
    "X = df[[age, trestbps]].values\n",
    "fit = nn.fit(X)\n",
    "\n",
    "# Get random patients to test on\n",
    "n = 50\n",
    "patients = df.sample(n)\n",
    "patientsX = patients[[age,trestbps]].values\n",
    "patientsy = patients[['disease']].values\n",
    "# display(patients)\n",
    "\n",
    "# Find the k nearest neighbors to the patient.\n",
    "distances, indices = fit.kneighbors(patientsX)\n",
    "# print('indices of k-nearest neighbors for each patient:')\n",
    "# display(indices)\n",
    "\n",
    "y_pred = []\n",
    "for i in range(n):\n",
    "    # print('nearest neighbors to patient: {}:'.format(patientsX[i]))\n",
    "    nbrs = df.iloc[indices[i]]\n",
    "    # Drop the patient of interest\n",
    "    nbrs = nbrs.drop(patients.index[i])\n",
    "    # display(nbrs)\n",
    "\n",
    "    healthy = nbrs[nbrs.disease == 0].count().disease\n",
    "    sick = nbrs[nbrs.disease == 1].count().disease\n",
    "    predict = 0 if (healthy > sick) else 1\n",
    "    # print(f'healthy: {healthy}, sick: {sick}, predicted: {predict}, actual: {patientsy[i][0]}')\n",
    "    y_pred.append(predict)\n",
    "\n",
    "y_pred\n",
    "# This is where we would compile how many patients are predicted\n",
    "# correctly. Remember:\n",
    "#    precision = tp/(tp+fp)  (\"sloppiness\")\n",
    "#    recall    = tp/(tp+fn)  (\"What percentage did we find?\")\n",
    "#    f-score - a balance between precision and recall\n",
    "#    support - number of positive labels\n",
    "(p,r,f,s) = precision_recall_fscore_support(patientsy, y_pred, labels=[1])\n",
    "print(f'precision={p}, recall={r}, f-score={f}, support={s}')"
   ]
  },
  {
   "cell_type": "markdown",
   "metadata": {
    "id": "HbFUBKlYCP_7"
   },
   "source": [
    "## Elbow method\n",
    "Helps find an optimal value of k"
   ]
  },
  {
   "cell_type": "code",
   "execution_count": 18,
   "metadata": {
    "colab": {
     "base_uri": "https://localhost:8080/",
     "height": 283
    },
    "executionInfo": {
     "elapsed": 7169,
     "status": "ok",
     "timestamp": 1645041323497,
     "user": {
      "displayName": "John Edwards",
      "photoUrl": "https://lh3.googleusercontent.com/a-/AOh14GjNdoYCBUMD6WY4cP9VEjQJl3NdSIBREBAeQ1vz=s64",
      "userId": "04096460213798108420"
     },
     "user_tz": 420
    },
    "id": "T4WSF1daCVSe",
    "outputId": "d70f1e68-f94f-4d2e-f88c-a77bf6be2084"
   },
   "outputs": [
    {
     "name": "stderr",
     "output_type": "stream",
     "text": [
      "c:\\Users\\jonah\\AppData\\Local\\Programs\\Python\\Python310\\lib\\site-packages\\sklearn\\metrics\\_classification.py:1531: UndefinedMetricWarning: Precision is ill-defined and being set to 0.0 due to no predicted samples. Use `zero_division` parameter to control this behavior.\n",
      "  _warn_prf(average, modifier, f\"{metric.capitalize()} is\", len(result))\n"
     ]
    },
    {
     "data": {
      "text/plain": [
       "Text(0, 0.5, 'f score')"
      ]
     },
     "execution_count": 18,
     "metadata": {},
     "output_type": "execute_result"
    },
    {
     "data": {
      "image/png": "[encoded data removed]",
      "text/plain": [
       "<Figure size 640x480 with 1 Axes>"
      ]
     },
     "metadata": {},
     "output_type": "display_data"
    }
   ],
   "source": [
    "from sklearn.metrics import precision_recall_fscore_support\n",
    "\n",
    "def get_scores(k):\n",
    "  # Use knn on age. First create a nearest neighbors object.\n",
    "  nn = NearestNeighbors(n_neighbors=k, metric='euclidean', algorithm='auto')\n",
    "\n",
    "  # This builds an index data structure under the hood for query performance\n",
    "  X = df[['age_s', 'trestbps_s']].values\n",
    "  fit = nn.fit(X)\n",
    "\n",
    "  # Get random patients to test on\n",
    "  n = 50\n",
    "  patients = df.sample(n)\n",
    "  patientsX = patients[['age_s','trestbps_s']].values\n",
    "  patientsy = patients[['disease']].values\n",
    "  # display(patients)\n",
    "\n",
    "  # Find the k nearest neighbors to the patient.\n",
    "  distances, indices = fit.kneighbors(patientsX)\n",
    "  # print('indices of k-nearest neighbors for each patient:')\n",
    "  # display(indices)\n",
    "\n",
    "  y_pred = []\n",
    "  for i in range(n):\n",
    "      # print('nearest neighbors to patient: {}:'.format(patientsX[i]))\n",
    "      nbrs = df.iloc[indices[i]]\n",
    "      # Drop the patient of interest\n",
    "      nbrs = nbrs.drop(patients.index[i], errors='ignore')\n",
    "      # display(nbrs)\n",
    "\n",
    "      healthy = nbrs[nbrs.disease == 0].count().disease\n",
    "      sick = nbrs[nbrs.disease == 1].count().disease\n",
    "      predict = 0 if (healthy > sick) else 1\n",
    "      # print(f'healthy: {healthy}, sick: {sick}, predicted: {predict}, actual: {patientsy[i][0]}')\n",
    "      y_pred.append(predict)\n",
    "\n",
    "  # This is where we would compile how many patients are predicted\n",
    "  # correctly. Remember:\n",
    "  #    precision = tp/(tp+fp)  (\"sloppiness\")\n",
    "  #    recall    = tp/(tp+fn)  (\"What percentage did we find?\")\n",
    "  #    f-score - a balance between precision and recall\n",
    "  #    support - number of positive labels\n",
    "  return precision_recall_fscore_support(patientsy, y_pred, labels=[1])\n",
    "\n",
    "kvals = range(2, 250)\n",
    "scores = [get_scores(k) for k in kvals]\n",
    "# print(scores)\n",
    "\n",
    "scores = [(p[0], r[0], f[0], s[0]) for (p,r,f,s) in scores]\n",
    "scores = list(zip(*scores))\n",
    "\n",
    "plt.plot(kvals, scores[2])\n",
    "plt.xlabel('k')\n",
    "plt.ylabel('f score')"
   ]
  },
  {
   "cell_type": "markdown",
   "metadata": {
    "id": "JxXTniMH-8Qf"
   },
   "source": [
    "# Split data into train/test and get precision/recall/f score"
   ]
  },
  {
   "cell_type": "code",
   "execution_count": 19,
   "metadata": {
    "id": "xWgdGaay-8Qf"
   },
   "outputs": [],
   "source": [
    "from sklearn.model_selection import train_test_split\n",
    "from sklearn.metrics import precision_recall_fscore_support\n",
    "\n",
    "k = 20\n",
    "nn = NearestNeighbors(n_neighbors=k, metric='euclidean', algorithm='auto')\n",
    "\n",
    "X = df[['age', 'trestbps', 'chol', 'thalach']].values\n",
    "y = df[['disease']].values\n",
    "\n",
    "# Use random_state if you want the same values each time you run for debugging,\n",
    "# but you should select the split randomly when you're ready to actually train\n",
    "# and test on the data.\n",
    "X_train, X_test, y_train, y_test = train_test_split(X, y, test_size=0.25)#, random_state=42)\n",
    "\n",
    "# Build the model with the training data and test with the test data\n",
    "\n",
    "# You may also want to use this function to compute the f score. The labels parameter indicates\n",
    "# that label 1 is \"positive\" in the sense of \"true positive\", \"false positive\" etc.\n",
    "# (p,r,f,s) = precision_recall_fscore_support(y_test, y_pred, labels=[1])"
   ]
  },
  {
   "cell_type": "markdown",
   "metadata": {
    "id": "3ygZqMWD-8Qg"
   },
   "source": [
    "# Curse of dimensionality\n",
    "\"In low-dimensional datasets, the closest points tend to be much closer than average. But two points are close only if they're close in every dimension, and every extra dimension -- even if just noise -- is another opportunity for each point to be further away from every other point. When you have a lot of dimensions it's likely that the closest points aren't much closer than average, which means that two points being close doesn't mean very much (unless there is a *lot* of structure in your data).\" -Joel Grus\n",
    "\n",
    "The chart that this code displays shows that distance has less meaning as dimensions grows. In higher dimensions, most points are about the same distance from each other."
   ]
  },
  {
   "cell_type": "code",
   "execution_count": 17,
   "metadata": {
    "id": "2hmoH9u9-8Qg",
    "outputId": "3b22ffff-c948-49c8-d933-d9f3f0d6c963"
   },
   "outputs": [
    {
     "name": "stdout",
     "output_type": "stream",
     "text": [
      "[0.006420977540344652, 0.9890274830609121, 0.25955596334016684]\n",
      "[1.5087045900847633, 1.1090660746112353, 1.5938599445802866, 0.8473163770354483, 1.4001744878842135, 1.4166294570503286, 1.5408624408243592, 1.4190179092867912, 1.3697376899672569, 1.7950179137945674]\n"
     ]
    },
    {
     "data": {
      "text/plain": [
       "<matplotlib.legend.Legend at 0x1f31faf4280>"
      ]
     },
     "execution_count": 17,
     "metadata": {},
     "output_type": "execute_result"
    },
    {
     "data": {
      "image/png": "[encoded data removed]",
      "text/plain": [
       "<Figure size 640x480 with 1 Axes>"
      ]
     },
     "metadata": {},
     "output_type": "display_data"
    }
   ],
   "source": [
    "import random\n",
    "import math\n",
    "\n",
    "def random_point(dim):\n",
    "    return [random.random() for _ in range(dim)]\n",
    "\n",
    "def sq(x):\n",
    "    return x*x\n",
    "\n",
    "def distance(a, b):\n",
    "    a = [sq(a[i]) + sq(b[i]) for i in range(len(a))]\n",
    "    return math.sqrt(sum(a))\n",
    "\n",
    "def random_distances(dim, num_pairs):\n",
    "    return [distance(random_point(dim), random_point(dim)) for _ in range(num_pairs)]\n",
    "\n",
    "print(random_point(3))\n",
    "print(random_distances(3, 10))\n",
    "\n",
    "num_pairs = 100\n",
    "means = []\n",
    "mins = []\n",
    "for dim in range(1, 100):\n",
    "    d = random_distances(dim, num_pairs)\n",
    "    means.append(sum(d)/len(d))\n",
    "    mins.append(min(d))\n",
    "\n",
    "# Note that the ratio of average distance to min distance\n",
    "# approaches one, so there's less space between the two.\n",
    "plt.plot(range(1, 100), means, label='average distance')\n",
    "plt.plot(range(1, 100), mins, label='min distance')\n",
    "plt.xlabel('num dimensions')\n",
    "plt.ylabel('distance')\n",
    "plt.title('Distances of 100 randomly selected points')\n",
    "plt.legend()"
   ]
  }
 ],
 "metadata": {
  "colab": {
   "name": "knn-template.ipynb",
   "provenance": []
  },
  "kernelspec": {
   "display_name": "Python 3 (ipykernel)",
   "language": "python",
   "name": "python3"
  },
  "language_info": {
   "codemirror_mode": {
    "name": "ipython",
    "version": 3
   },
   "file_extension": ".py",
   "mimetype": "text/x-python",
   "name": "python",
   "nbconvert_exporter": "python",
   "pygments_lexer": "ipython3",
   "version": "3.10.1"
  }
 },
 "nbformat": 4,
 "nbformat_minor": 4
}
